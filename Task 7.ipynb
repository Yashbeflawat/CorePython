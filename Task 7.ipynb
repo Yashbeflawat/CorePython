{
  "metadata": {
    "kernelspec": {
      "name": "python",
      "display_name": "Python (Pyodide)",
      "language": "python"
    },
    "language_info": {
      "codemirror_mode": {
        "name": "python",
        "version": 3
      },
      "file_extension": ".py",
      "mimetype": "text/x-python",
      "name": "python",
      "nbconvert_exporter": "python",
      "pygments_lexer": "ipython3",
      "version": "3.8"
    }
  },
  "nbformat_minor": 5,
  "nbformat": 4,
  "cells": [
    {
      "id": "0cc46426-7423-4e18-9ad2-3bba0f6e9f04",
      "cell_type": "markdown",
      "source": "# Task 7\n\n## Conditional Statements (if, elif, else) in Python\n\n### Objective:\n\nTo control the flow of a program based on specific conditions using `if`, `elif`, and `else`.\n\n### Example:",
      "metadata": {}
    },
    {
      "id": "03b7a6e9-0377-4e6e-a757-4526638c918f",
      "cell_type": "code",
      "source": "temperature = 30\n\nif temperature > 25:\n    print(\"It's a hot day!\")  # Execute this block if the condition is True\nelif temperature >= 15:\n    print(\"The weather is mild.\")  # Execute if the previous condition was False, but this one is True\nelse:\n    print(\"It's a cool day.\")  # Execute if all above conditions are False",
      "metadata": {
        "trusted": true
      },
      "outputs": [],
      "execution_count": null
    },
    {
      "id": "e556f7d5-5b41-48fb-b396-2b1f2e81f655",
      "cell_type": "markdown",
      "source": "Best Practices:\nKeep conditions clear and well-structured.\nUse elif instead of multiple if statements to enhance efficiency.\nUtilize f-strings for clean and readable output formatting",
      "metadata": {}
    }
  ]
}