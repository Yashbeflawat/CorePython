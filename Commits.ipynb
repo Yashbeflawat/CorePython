{
  "metadata": {
    "kernelspec": {
      "name": "python",
      "display_name": "Python (Pyodide)",
      "language": "python"
    },
    "language_info": {
      "codemirror_mode": {
        "name": "python",
        "version": 3
      },
      "file_extension": ".py",
      "mimetype": "text/x-python",
      "name": "python",
      "nbconvert_exporter": "python",
      "pygments_lexer": "ipython3",
      "version": "3.8"
    }
  },
  "nbformat_minor": 5,
  "nbformat": 4,
  "cells": [
    {
      "id": "2651f725-a0db-4205-86c0-3f08241547fd",
      "cell_type": "code",
      "source": "# Phase 1: Python Environment Setup & Basic Syntax\n\nWelcome to the first phase of your Python journey! In this phase, You will be guided how to install python, set up a code editor and writing your first python program\nLet's get started with the basics:\n",
      "metadata": {
        "trusted": true
      },
      "outputs": [],
      "execution_count": null
    },
    {
      "id": "7ba06342-792f-4295-b96c-7ab1c62157b6",
      "cell_type": "code",
      "source": "# Task 1: Installing Python & Setting Up Your Development Environment\n\nTo begin coding in Python, you first need to install Python on your computer and set up a development environment. Follow the steps below:\n\n# Step 1: Download Python\n- Head over to the official [Python website](https://www.python.org/downloads/).\n- Choose the version that's right for your operating system (Windows, macOS, or Linux).\n- Download the latest stable version (e.g., Python 3.10 or later).\n\n# Step 2: Install Python\n- Once the installer is downloaded, run it.\n- Make sure to check the box that says \"Add Python to PATH\" before you click on \"Install Now\". This step is very important as it allows you to run Python directly from the command line.\n\n# Step 3: Verify Python Installation\nTo ensure that Python was installed successfully, open your terminal (Command Prompt or Shell), and type the following:\n```bash\npython --version\n\nThis should display the Python version you installed (e.g., Python 3.x.x).",
      "metadata": {
        "trusted": true
      },
      "outputs": [],
      "execution_count": null
    },
    {
      "id": "4dd862fe-1c76-426e-b23b-8e79d92cd20e",
      "cell_type": "code",
      "source": "# Step 4: Setting Up a Code Editor (VS Code)\n\nNow, let’s install a code editor to write and run Python code. We recommend using Visual Studio Code (VS Code), which is free, powerful, and easy to use.\n\n1. Download VS Code: Go to the [VS Code download page](https://code.visualstudio.com/Download).\n2. Download the version that matches your operating system (Windows, macOS, or Linux).\n\nAfter the installation, open VS Code, and let’s set it up for Python development:\n\n# Step 5: Install Python Extension in VS Code\n1. Open VS Code and go to the Extensions tab (the little square icon on the left sidebar).\n2. Search for “Python” in the search bar and click on the first extension by Microsoft.\n3. Click on Install to add the Python extension.\n\nNow you’re ready to write Python code in VS Code!\n\n# Step 6: Create Your First Python Program\n1. Open VS Code, go to File > New File, and save it as `hello_world.py`.\n2. Inside the file, type:\n```python\nprint(\"Hello, World!\")\n\nTo run it, open the terminal in VS Code (`Ctrl + ``), and type:\npython hello_world.py\n\nAnd doing just that you have written your first python program",
      "metadata": {
        "trusted": true
      },
      "outputs": [],
      "execution_count": null
    },
    {
      "id": "c739c98c-e77c-4ed9-99f2-10ca9624e745",
      "cell_type": "code",
      "source": "# Task 2: Understanding Comments in Python\n\n# 1. Single-line Comments\nComments are an essential part of writing clean and understandable code. They allow you to explain your code to others (or remind yourself later). In Python, a **single-line comment** starts with the `#` symbol. Everything after the `#` on that line is ignored by Python.\n\nExample:\n# This is a single-line comment\nx = 10  # This is an inline comment\n\n2. Multi-line Comments\nPython doesn’t have a built-in multi-line comment syntax, but you can achieve it by using multiple single-line comments or triple quotes (''' or \"\"\").\n\nExample:\n\"\"\"\nThis is a multi-line comment.\nIt can span several lines and is typically used for longer explanations.\n\"\"\"\nNow you can start adding comments to your code to make it easier to understand!\n",
      "metadata": {
        "trusted": true
      },
      "outputs": [],
      "execution_count": null
    },
    {
      "id": "102d42dc-50bb-4279-a312-8a8465adfd5b",
      "cell_type": "code",
      "source": "\n# The Importance of Indentation in Python\n\nIn Python, indentation refers to the spaces or tabs at the beginning of a line of code. It is used to define the structure and hierarchy of the code. This means that Python uses indentation to group code into blocks (e.g., inside loops, conditionals, and functions).\n\n# Why Indentation is Crucial:\n1. Defines Code Blocks: Indentation tells Python which statements belong together. For instance, all code inside a function or a loop must be indented.\n2. Improves Readability: Proper indentation helps make your code more readable and structured, making it easier for both you and others to understand.\n\nHere’s an example of a properly indented Python function:\n```python\ndef greet():\n    # This line is indented to show it's inside the function block\n    print(\"Hello, Python!\")\n\nGreat Job! You’ve Completed Phase 1!\n\nYou’ve successfully set up Python on your system, created your first Python program, and learned the importance of comments and indentation in Python.\n",
      "metadata": {
        "trusted": true
      },
      "outputs": [],
      "execution_count": null
    },
    {
      "id": "b9013edb-5f7c-428f-bef3-f7c99c7eaf66",
      "cell_type": "code",
      "source": "",
      "metadata": {
        "trusted": true
      },
      "outputs": [],
      "execution_count": null
    }
  ]
}