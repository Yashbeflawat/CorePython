{
  "metadata": {
    "kernelspec": {
      "name": "python",
      "display_name": "Python (Pyodide)",
      "language": "python"
    },
    "language_info": {
      "codemirror_mode": {
        "name": "python",
        "version": 3
      },
      "file_extension": ".py",
      "mimetype": "text/x-python",
      "name": "python",
      "nbconvert_exporter": "python",
      "pygments_lexer": "ipython3",
      "version": "3.8"
    }
  },
  "nbformat_minor": 5,
  "nbformat": 4,
  "cells": [
    {
      "id": "f79fb1ec-3488-4d34-ae4b-5a9643feff96",
      "cell_type": "markdown",
      "source": "# Task 8  \n# For Loop in Python\n\n## Objective:\n\nA `for` loop is employed to iterate over a sequence (such as a list, tuple, string, or dictionary).\n\n### Syntax:",
      "metadata": {}
    },
    {
      "id": "f795347f-d4a1-46ce-a351-d71b20233dd3",
      "cell_type": "code",
      "source": "for variable in sequence:\n    # Code to execute in the loop",
      "metadata": {
        "trusted": true
      },
      "outputs": [],
      "execution_count": null
    },
    {
      "id": "1416c0d5-c76f-482c-b937-95538d909025",
      "cell_type": "markdown",
      "source": "Example:",
      "metadata": {}
    },
    {
      "id": "32eb3c5c-91e0-46c7-a190-065de64d1254",
      "cell_type": "code",
      "source": "# Using a for loop to print even numbers from 2 to 10\nfor even_number in range(2, 11, 2):  \n    print(even_number)",
      "metadata": {
        "trusted": true
      },
      "outputs": [],
      "execution_count": null
    },
    {
      "id": "4f44d32c-2e64-4fe0-9572-8a47af281bce",
      "cell_type": "markdown",
      "source": "Explanation:\nrange(2, 11, 2) generates even numbers from 2 to 10 (the last number, 11, is not included).\nfor even_number in range(2, 11, 2): loops through each even number in the specified range.\nprint(even_number) prints each even number on a new line.\n\nBest Practices:\nUse enumerate() if you need to access index values while iterating.\nUse .items() for iterating over key-value pairs in dictionaries.\nAvoid modifying lists during looping to prevent unexpected errors",
      "metadata": {}
    }
  ]
}