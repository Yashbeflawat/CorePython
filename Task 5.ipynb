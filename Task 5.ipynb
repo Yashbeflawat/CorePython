{
  "metadata": {
    "kernelspec": {
      "name": "python",
      "display_name": "Python (Pyodide)",
      "language": "python"
    },
    "language_info": {
      "codemirror_mode": {
        "name": "python",
        "version": 3
      },
      "file_extension": ".py",
      "mimetype": "text/x-python",
      "name": "python",
      "nbconvert_exporter": "python",
      "pygments_lexer": "ipython3",
      "version": "3.8"
    }
  },
  "nbformat_minor": 5,
  "nbformat": 4,
  "cells": [
    {
      "id": "9864e9b6-dd0f-4c9d-9436-251435f5f946",
      "cell_type": "markdown",
      "source": "# Task 5: Other Data Types - Lists, Tuples, and Dictionaries\n\n## Objective:\n\n### Lists: Ordered, Mutable Collection\n\nA list is an ordered collection of items that is mutable, meaning you can modify its contents after it has been created. Lists are defined using square brackets `[]`, and items are separated by commas `,`.\n\n**Example of a list:**",
      "metadata": {}
    },
    {
      "id": "045c55e3-4019-4d42-8f14-2102688e4647",
      "cell_type": "code",
      "source": "favorite_fruits = [\"Apple\", \"Banana\", \"Cherry\", \"Date\", \"Elderberry\"]",
      "metadata": {
        "trusted": true
      },
      "outputs": [],
      "execution_count": null
    },
    {
      "id": "bfa03d47-464f-4f55-ae12-5eed3f9bc5d6",
      "cell_type": "markdown",
      "source": "Tuples: Ordered, Immutable Collection\nA tuple is similar to a list, but unlike lists, tuples are immutable, which means you cannot change the items once the tuple is created. Tuples are defined using parentheses ().\n\nExample of a tuple:",
      "metadata": {}
    },
    {
      "id": "d5d3d322-be84-4b19-942d-adde673c7d53",
      "cell_type": "code",
      "source": "coordinates = (40.7128, -74.0060)  # Example coordinates for New York City",
      "metadata": {
        "trusted": true
      },
      "outputs": [],
      "execution_count": null
    },
    {
      "id": "9939d0b6-c335-4ec0-991b-5efc2140b86c",
      "cell_type": "markdown",
      "source": "Dictionaries: Key-Value Pairs\nA dictionary is an unordered collection of items, where each item is stored as a pair consisting of a key and a value. Dictionaries are defined using curly braces {}, and the key-value pairs are separated by a colon :.\n\nExample of a dictionary:",
      "metadata": {}
    },
    {
      "id": "21a931f5-3829-43ad-9c05-148bb218fdc0",
      "cell_type": "code",
      "source": "",
      "metadata": {
        "trusted": true
      },
      "outputs": [],
      "execution_count": null
    }
  ]
}