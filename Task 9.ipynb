{
  "metadata": {
    "kernelspec": {
      "name": "python",
      "display_name": "Python (Pyodide)",
      "language": "python"
    },
    "language_info": {
      "codemirror_mode": {
        "name": "python",
        "version": 3
      },
      "file_extension": ".py",
      "mimetype": "text/x-python",
      "name": "python",
      "nbconvert_exporter": "python",
      "pygments_lexer": "ipython3",
      "version": "3.8"
    }
  },
  "nbformat_minor": 5,
  "nbformat": 4,
  "cells": [
    {
      "id": "1fd22a1d-be11-430a-8357-129183823108",
      "cell_type": "markdown",
      "source": "# Task 9\n\n## While Loop in Python\n\n### Objective:\n\nA `while` loop continues to execute as long as a specified condition evaluates to True.\n\n### Syntax:",
      "metadata": {}
    },
    {
      "id": "ffbe1934-9b9f-4d23-9ede-be70ac3ea628",
      "cell_type": "code",
      "source": "while condition:\n    # Code that runs in the loop",
      "metadata": {
        "trusted": true
      },
      "outputs": [],
      "execution_count": null
    },
    {
      "id": "23ccf1b9-bad7-416d-9c19-3ab3c83fc1fb",
      "cell_type": "markdown",
      "source": "Example:",
      "metadata": {}
    },
    {
      "id": "9d230656-d122-4b1f-9baf-2a0ffcd86cd7",
      "cell_type": "code",
      "source": "# Initialize a variable\ncount = 1\n\n# Loop while count is less than or equal to 4\nwhile count <= 4:\n    print(count)  # Print the current count\n    count += 1    # Increase the count by 1\n",
      "metadata": {
        "trusted": true
      },
      "outputs": [],
      "execution_count": null
    },
    {
      "id": "714dd907-1d2b-40a2-9b19-b2edc575234e",
      "cell_type": "markdown",
      "source": "Explanation:\nWe start with count = 1.\nThe while loop executes as long as count <= 4.\nInside the loop, print(count) displays the current value, and count += 1 increments the count by 1 in each iteration.\nWhen count reaches 5, the condition count <= 4 evaluates to False, and the loop terminates.\n\nBest Practices:\nEnsure that loops have a clear exit condition to avoid infinite loops.\nUse .lower() on user input to make it case-insensitive.\nUtilize break to exit the loop when necessary.",
      "metadata": {}
    }
  ]
}