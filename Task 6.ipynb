{
  "metadata": {
    "kernelspec": {
      "name": "python",
      "display_name": "Python (Pyodide)",
      "language": "python"
    },
    "language_info": {
      "codemirror_mode": {
        "name": "python",
        "version": 3
      },
      "file_extension": ".py",
      "mimetype": "text/x-python",
      "name": "python",
      "nbconvert_exporter": "python",
      "pygments_lexer": "ipython3",
      "version": "3.8"
    }
  },
  "nbformat_minor": 5,
  "nbformat": 4,
  "cells": [
    {
      "id": "e58b1704-8ffd-4655-86bc-0235f24f0fd0",
      "cell_type": "markdown",
      "source": "# Task 6: Operators - Arithmetic, Assignment, Comparison, Logical\n\n## Objective:\n\nOperators are utilized to carry out operations on variables and values. In this task, we will:\n\n- Understand various types of operators.\n- Use arithmetic operators for calculations.\n- Apply comparison and logical operators to evaluate conditions.\n\n### 1. Arithmetic Operators\n\nThese operators are used for mathematical computations:\n\n**Example:**",
      "metadata": {}
    },
    {
      "id": "d32b501b-a3b4-433f-8955-d1c14a050b15",
      "cell_type": "code",
      "source": "num1 = 15\nnum2 = 4\nprint(num1 + num2)  # Addition → 19\nprint(num1 - num2)  # Subtraction → 11\nprint(num1 * num2)  # Multiplication → 60\nprint(num1 / num2)  # Division → 3.75\nprint(num1 // num2) # Floor Division → 3\nprint(num1 % num2)  # Modulus (Remainder) → 3\nprint(num1 ** num2) # Exponentiation → 50625",
      "metadata": {
        "trusted": true
      },
      "outputs": [],
      "execution_count": null
    },
    {
      "id": "14eb3197-4d0a-4962-8204-ddebae65a20d",
      "cell_type": "markdown",
      "source": "2. Assignment Operators\nThese operators are used to assign values:\n\nExample:",
      "metadata": {}
    },
    {
      "id": "6a3bcd0e-8a57-4a06-8f07-4716dc1f0d0c",
      "cell_type": "code",
      "source": "value = 20\nvalue -= 4  # value = value - 4 → 16\nvalue /= 2  # value = value / 2 → 8.0\nprint(value)",
      "metadata": {
        "trusted": true
      },
      "outputs": [],
      "execution_count": null
    },
    {
      "id": "eda92de5-d52a-4574-b5b1-e11a64ff7bbd",
      "cell_type": "markdown",
      "source": "3. Comparison Operators\nThese operators are used to compare values (returns True/False):\n\nExample:",
      "metadata": {}
    },
    {
      "id": "6fd268a4-1c5f-47e1-a741-5f63ce30a64a",
      "cell_type": "code",
      "source": "x, y = 20, 15\nprint(x > y)   # True\nprint(x < y)   # False\nprint(x == y)  # False\nprint(x != y)  # True",
      "metadata": {
        "trusted": true
      },
      "outputs": [],
      "execution_count": null
    },
    {
      "id": "42b5e16e-5831-4949-9ae5-2ea8306e6404",
      "cell_type": "markdown",
      "source": "4. Logical Operators\nThese operators are used to evaluate multiple conditions:\n\nExample:",
      "metadata": {}
    },
    {
      "id": "f2763cbf-e826-4a4d-911c-206afaea5455",
      "cell_type": "code",
      "source": "marks = 80\nclass_participation = 90\n\nif marks > 70 and class_participation > 80:\n    print(\"Eligible for honors\")  # Output: Eligible for honors\n",
      "metadata": {
        "trusted": true
      },
      "outputs": [],
      "execution_count": null
    },
    {
      "id": "9c1f4d93-5908-42c4-b89a-a40b7867a498",
      "cell_type": "markdown",
      "source": "Best Practices:\nUse f-strings for clear formatting in print statements.\nEmploy comparison and logical operators to make decisions in your programs.\nMaintain proper indentation for if-else conditions to avoid errors.",
      "metadata": {}
    },
    {
      "id": "a3e3da30-df7a-4fa6-81f9-85826bf16b63",
      "cell_type": "code",
      "source": "",
      "metadata": {
        "trusted": true
      },
      "outputs": [],
      "execution_count": null
    }
  ]
}