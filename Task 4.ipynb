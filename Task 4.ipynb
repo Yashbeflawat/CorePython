{
  "metadata": {
    "kernelspec": {
      "name": "python",
      "display_name": "Python (Pyodide)",
      "language": "python"
    },
    "language_info": {
      "codemirror_mode": {
        "name": "python",
        "version": 3
      },
      "file_extension": ".py",
      "mimetype": "text/x-python",
      "name": "python",
      "nbconvert_exporter": "python",
      "pygments_lexer": "ipython3",
      "version": "3.8"
    }
  },
  "nbformat_minor": 5,
  "nbformat": 4,
  "cells": [
    {
      "id": "a05081c6-4fa6-4a27-b5a5-a763b409ba2c",
      "cell_type": "markdown",
      "source": "# Task 4: Detailed Exploration of Strings\n\n## Objective\n\nTo understand string manipulation, concatenation, slicing, and formatting using f-strings or `.format()` in Python.\n\n### 1. String Manipulation\n\nStrings in Python are highly versatile. You can manipulate them in various ways, such as altering their case, dividing them into components, and formatting them for display.\n\n### 2. String Methods\n\nPython offers several built-in methods that you can apply to strings for manipulation and processing:\n\n- **`.upper()`**: Converts all characters in a string to uppercase.\n- **`.lower()`**: Converts all characters in a string to lowercase.\n- **`.split()`**: Divides a string into a list based on a specified delimiter (e.g., space, comma, etc.).\n\n### 3. Practice Example",
      "metadata": {}
    },
    {
      "id": "74992d56-185f-4f35-8dac-c3d9b724fd60",
      "cell_type": "code",
      "source": "# User input capturing feedback on travel experiences\ntravel_feedback = input(\"Share your thoughts on your recent travel experience: \")\n\n# Convert the string to uppercase\nuppercase_feedback = travel_feedback.upper()\nprint(f\"Uppercase Version: {uppercase_feedback}\")\n\n# Convert the string to lowercase\nlowercase_feedback = travel_feedback.lower()\nprint(f\"Lowercase Version: {lowercase_feedback}\")\n\n# Split the string into words (by spaces) and display the list\nsplitted_feedback = travel_feedback.split()\nprint(f\"Split Version (Words): {splitted_feedback}\")\n\n# Format the string with f-string\nformatted_string = f\"Travel Feedback: {travel_feedback}\"\nprint(formatted_string)",
      "metadata": {
        "trusted": true
      },
      "outputs": [],
      "execution_count": null
    }
  ]
}