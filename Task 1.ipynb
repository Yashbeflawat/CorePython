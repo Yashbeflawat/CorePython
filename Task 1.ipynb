{
 "cells": [
  {
   "cell_type": "markdown",
   "metadata": {},
   "source": [
    "# Phase 1: Python Environment Setup & Basic Syntax\n",
    "\n",
    "Welcome to the first phase of your Python journey! In this phase, You will be guided how to install python, set up a code editor and writing your first python program\n",
    "Let's get started with the basics:\n",
    "# Task 1: Installing Python & Setting Up Your Development Environment\n",
    "\n",
    "To begin coding in Python, you first need to install Python on your computer and set up a development environment. Follow the steps below:\n",
    "\n",
    "# Step 1: Download Python\n",
    "- Head over to the official [Python website](https://www.python.org/downloads/).\n",
    "- Choose the version that's right for your operating system (Windows, macOS, or Linux).\n",
    "- Download the latest stable version (e.g., Python 3.10 or later).\n",
    "\n",
    "# Step 2: Install Python\n",
    "- Once the installer is downloaded, run it.\n",
    "- Make sure to check the box that says \"Add Python to PATH\" before you click on \"Install Now\". This step is very important as it allows you to run Python directly from the command line.\n",
    "\n",
    "# Step 3: Verify Python Installation\n",
    "To ensure that Python was installed successfully, open your terminal (Command Prompt or Shell), and type the following:"
   ]
  },
  {
   "cell_type": "code",
   "execution_count": null,
   "metadata": {},
   "outputs": [],
   "source": [
    "python --version\n",
    "\n",
    "This should display the Python version you installed (e.g., Python 3.x.x)."
   ]
  },
  {
   "cell_type": "markdown",
   "metadata": {},
   "source": [
    "# Step 4: Setting Up a Code Editor (VS Code)\n",
    "\n",
    "Now, let’s install a code editor to write and run Python code. We recommend using Visual Studio Code (VS Code), which is free, powerful, and easy to use.\n",
    "\n",
    "1. Download VS Code: Go to the [VS Code download page](https://code.visualstudio.com/Download).\n",
    "2. Download the version that matches your operating system (Windows, macOS, or Linux).\n",
    "\n",
    "After the installation, open VS Code, and let’s set it up for Python development:\n",
    "\n",
    "# Step 5: Install Python Extension in VS Code\n",
    "1. Open VS Code and go to the Extensions tab (the little square icon on the left sidebar).\n",
    "2. Search for “Python” in the search bar and click on the first extension by Microsoft.\n",
    "3. Click on Install to add the Python extension.\n",
    "\n",
    "Now you’re ready to write Python code in VS Code!\n",
    "\n",
    "# Step 6: Create Your First Python Program\n",
    "1. Open VS Code, go to File > New File, and save it as `hello_world.py`.\n",
    "2. Inside the file, type:"
   ]
  },
  {
   "cell_type": "code",
   "execution_count": null,
   "metadata": {},
   "outputs": [],
   "source": [
    "print(\"Hello, World!\")"
   ]
  },
  {
   "cell_type": "markdown",
   "metadata": {},
   "source": [
    "To run it, open the terminal in VS Code (`Ctrl + ``), and type:\n",
    "python hello_world.py\n",
    "\n",
    "And doing just that you have written your first python program"
   ]
  },
  {
   "cell_type": "markdown",
   "metadata": {},
   "source": [
    "# Task 2: Understanding Comments in Python\n",
    "\n",
    "# 1. Single-line Comments\n",
    "Comments are an essential part of writing clean and understandable code. They allow you to explain your code to others (or remind yourself later). In Python, a **single-line comment** starts with the `#` symbol. Everything after the `#` on that line is ignored by Python.\n",
    "\n",
    "Example:"
   ]
  },
  {
   "cell_type": "code",
   "execution_count": null,
   "metadata": {},
   "outputs": [],
   "source": [
    "# This is a single-line comment\n",
    "x = 10  # This is an inline comment"
   ]
  },
  {
   "cell_type": "markdown",
   "metadata": {},
   "source": [
    "2. Multi-line Comments\n",
    "Python doesn’t have a built-in multi-line comment syntax, but you can achieve it by using multiple single-line comments or triple quotes (''' or \"\"\").\n",
    "\n",
    "Example:"
   ]
  },
  {
   "cell_type": "code",
   "execution_count": null,
   "metadata": {},
   "outputs": [],
   "source": [
    "\"\"\"\n",
    "This is a multi-line comment.\n",
    "It can span several lines and is typically used for longer explanations.\n",
    "\"\"\""
   ]
  },
  {
   "cell_type": "code",
   "execution_count": null,
   "metadata": {},
   "outputs": [],
   "source": [
    "Now you can start adding comments to your code to make it easier to understand!\n",
    "# The Importance of Indentation in Python\n",
    "\n",
    "In Python, indentation refers to the spaces or tabs at the beginning of a line of code. It is used to define the structure and hierarchy of the code. This means that Python uses indentation to group code into blocks (e.g., inside loops, conditionals, and functions)."
   ]
  },
  {
   "cell_type": "markdown",
   "metadata": {},
   "source": [
    "# Why Indentation is Crucial:\n",
    "1. Defines Code Blocks: Indentation tells Python which statements belong together. For instance, all code inside a function or a loop must be indented.\n",
    "2. Improves Readability: Proper indentation helps make your code more readable and structured, making it easier for both you and others to understand.\n",
    "\n",
    "Here’s an example of a properly indented Python function:"
   ]
  },
  {
   "cell_type": "code",
   "execution_count": null,
   "metadata": {},
   "outputs": [],
   "source": [
    "def greet():\n",
    "    # This line is indented to show it's inside the function block\n",
    "    print(\"Hello, Python!\")\n"
   ]
  },
  {
   "cell_type": "markdown",
   "metadata": {},
   "source": [
    "Great Job! You’ve Completed Phase 1!\n",
    "\n",
    "You’ve successfully set up Python on your system, created your first Python program, and learned the importance of comments and indentation in Python."
   ]
  }
 ],
 "metadata": {
  "language_info": {
   "name": "python"
  }
 },
 "nbformat": 4,
 "nbformat_minor": 2
}
